{
 "cells": [
  {
   "cell_type": "code",
   "execution_count": 7,
   "metadata": {},
   "outputs": [],
   "source": [
    "# import Serial libraries\n",
    "import serial\n",
    "import serial.tools.list_ports\n",
    "import time\n",
    "import numpy as np\n",
    "import matplotlib.pyplot as plt\n",
    "from tqdm import tqdm"
   ]
  },
  {
   "cell_type": "code",
   "execution_count": 2,
   "metadata": {},
   "outputs": [
    {
     "name": "stdout",
     "output_type": "stream",
     "text": [
      "/dev/cu.wlan-debug - n/a\n",
      "/dev/cu.Bluetooth-Incoming-Port - n/a\n",
      "/dev/cu.usbserial-56230387121 - USB Single Serial\n"
     ]
    }
   ],
   "source": [
    "# list serial ports\n",
    "ports = list(serial.tools.list_ports.comports())\n",
    "for p in ports:\n",
    "    print(p)"
   ]
  },
  {
   "cell_type": "code",
   "execution_count": 5,
   "metadata": {},
   "outputs": [
    {
     "name": "stdout",
     "output_type": "stream",
     "text": [
      "0.844,0.000,0.321,-0.000,-1.924,0.000,\n",
      "\n"
     ]
    }
   ],
   "source": [
    "# read a line of data from the serial port\n",
    "\n",
    "# open the serial port\n",
    "ser = serial.Serial('/dev/cu.usbserial-56230387121', 9600, timeout=1)\n",
    "encoderData = ser.readline()\n",
    "encoderData = ser.readline()\n",
    "encoderData = encoderData.decode()\n",
    "command = \"<0.0, 0.0>\"\n",
    "ser.write(command.encode())\n",
    "ser.close()\n",
    "\n",
    "print(encoderData)"
   ]
  },
  {
   "cell_type": "code",
   "execution_count": null,
   "metadata": {},
   "outputs": [],
   "source": []
  },
  {
   "cell_type": "code",
   "execution_count": 13,
   "metadata": {},
   "outputs": [
    {
     "name": "stderr",
     "output_type": "stream",
     "text": [
      " 22%|██▎       | 225/1000 [00:02<00:09, 82.70it/s]"
     ]
    },
    {
     "name": "stdout",
     "output_type": "stream",
     "text": [
      "Failed to read data 2.09\n"
     ]
    },
    {
     "name": "stderr",
     "output_type": "stream",
     "text": [
      "100%|██████████| 1000/1000 [00:17<00:00, 58.50it/s]"
     ]
    },
    {
     "name": "stdout",
     "output_type": "stream",
     "text": [
      "Loop took 17.095028162002563 seconds\n"
     ]
    },
    {
     "name": "stderr",
     "output_type": "stream",
     "text": [
      "\n"
     ]
    }
   ],
   "source": [
    "dt = 0.01\n",
    "t_vec = np.arange(0, 10, dt)\n",
    "\n",
    "ser = serial.Serial('/dev/cu.usbserial-56230387121', 38400, timeout=1)\n",
    "\n",
    "linearPositions = []\n",
    "linearVelocities = []\n",
    "shoulderPositions = []\n",
    "shoulderVelocities = []\n",
    "elbowPositions = []\n",
    "elbowVelocities = []\n",
    "\n",
    "loopStart = time.time()\n",
    "for t in tqdm(t_vec):\n",
    "    start = time.time()\n",
    "    try:\n",
    "        encoderData = ser.readline()\n",
    "        encoderData = ser.readline()\n",
    "\n",
    "        command = \"<0.0, 0.0>\"\n",
    "        ser.write(command.encode())\n",
    "\n",
    "        encoderData = encoderData.decode()\n",
    "\n",
    "        # parse the data\n",
    "        encoderData = encoderData.split(\",\")\n",
    "        assert(len(encoderData) == 7)\n",
    "\n",
    "        # convert to floats first to avoid erroring out and partially apending data\n",
    "        lin = float(encoderData[0])\n",
    "        linVel = float(encoderData[1])\n",
    "        shoulder = float(encoderData[2])\n",
    "        shoulderVel = float(encoderData[3])\n",
    "        elbow = float(encoderData[4])\n",
    "        elbowVel = float(encoderData[5])\n",
    "\n",
    "        linearPositions.append(lin)\n",
    "        linearVelocities.append(linVel)\n",
    "        shoulderPositions.append(shoulder)\n",
    "        shoulderVelocities.append(shoulderVel)\n",
    "        elbowPositions.append(elbow)\n",
    "        elbowVelocities.append(elbowVel)\n",
    "\n",
    "    except:\n",
    "        print(\"Failed to read data \" + str(t))\n",
    "        linearPositions.append(0)\n",
    "        linearVelocities.append(0)\n",
    "        shoulderPositions.append(0)\n",
    "        shoulderVelocities.append(0)\n",
    "        elbowPositions.append(0)\n",
    "        elbowVelocities.append(0)\n",
    "\n",
    "    end = time.time()\n",
    "    # print(\"Loop took \" + str(end - start) + \" seconds\")\n",
    "    time.sleep(max(0, dt - (end - start)))\n",
    "    # time.sleep(dt)\n",
    "loopEnd = time.time()\n",
    "print(\"Loop took \" + str(loopEnd - loopStart) + \" seconds\")\n"
   ]
  },
  {
   "cell_type": "code",
   "execution_count": 14,
   "metadata": {},
   "outputs": [
    {
     "name": "stdout",
     "output_type": "stream",
     "text": [
      "(1000,)\n",
      "(1000,)\n",
      "(1000,)\n",
      "(1000,)\n",
      "(1000,)\n",
      "(1000,)\n",
      "(1000,)\n"
     ]
    }
   ],
   "source": [
    "print(np.shape(t_vec))\n",
    "print(np.shape(linearPositions))\n",
    "print(np.shape(linearVelocities))\n",
    "print(np.shape(shoulderPositions))\n",
    "print(np.shape(shoulderVelocities))\n",
    "print(np.shape(elbowPositions))\n",
    "print(np.shape(elbowVelocities))\n"
   ]
  },
  {
   "cell_type": "code",
   "execution_count": 15,
   "metadata": {},
   "outputs": [
    {
     "data": {
      "text/plain": [
       "[<matplotlib.lines.Line2D at 0x11afd4eb0>]"
      ]
     },
     "execution_count": 15,
     "metadata": {},
     "output_type": "execute_result"
    },
    {
     "data": {
      "image/png": "[encoded data removed]",
      "text/plain": [
       "<Figure size 640x480 with 1 Axes>"
      ]
     },
     "metadata": {},
     "output_type": "display_data"
    }
   ],
   "source": [
    "# plot the shoulder positions and velocities\n",
    "plt.plot(t_vec, shoulderPositions, label=\"shoulder position\")\n",
    "plt.plot(t_vec, shoulderVelocities, label=\"shoulder velocity\")"
   ]
  },
  {
   "cell_type": "code",
   "execution_count": null,
   "metadata": {},
   "outputs": [],
   "source": []
  }
 ],
 "metadata": {
  "kernelspec": {
   "display_name": "Python 3",
   "language": "python",
   "name": "python3"
  },
  "language_info": {
   "codemirror_mode": {
    "name": "ipython",
    "version": 3
   },
   "file_extension": ".py",
   "mimetype": "text/x-python",
   "name": "python",
   "nbconvert_exporter": "python",
   "pygments_lexer": "ipython3",
   "version": "3.10.8"
  },
  "orig_nbformat": 4
 },
 "nbformat": 4,
 "nbformat_minor": 2
}
