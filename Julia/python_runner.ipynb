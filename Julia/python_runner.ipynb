{
 "cells": [
  {
   "cell_type": "code",
   "execution_count": null,
   "metadata": {},
   "outputs": [],
   "source": [
    "# import Serial libraries\n",
    "import serial\n",
    "import serial.tools.list_ports\n",
    "import time\n",
    "import numpy as np\n",
    "import matplotlib.pyplot as plt\n",
    "from tqdm import tqdm"
   ]
  },
  {
   "cell_type": "code",
   "execution_count": null,
   "metadata": {},
   "outputs": [],
   "source": [
    "ENCODER_LINEAR_ANGULAR_RATIO_M = 0.00602\n",
    "ENCODER_LINEAR_ANGULAR_RATIO_CM = 0.602\n",
    "ENCODER_ELBOW_ANGULAR_RATIO= 0.2\n",
    "ENCODER_SHOULDER_ANGULAR_RATIO = 1.0"
   ]
  },
  {
   "cell_type": "code",
   "execution_count": null,
   "metadata": {},
   "outputs": [],
   "source": [
    "decode_list = [\n",
    "\"linear_position\", \n",
    "\"linear_velocity\", \n",
    "\"shoulder_position\", \n",
    "\"shoulder_velocity\", \n",
    "\"elbow_position\", \n",
    "\"elbow_velocity\",\n",
    "\"requested_vel_1\",\n",
    "\"requested_vel_2\",\n",
    "\"serial_tx_time\",\n",
    "# \"time_since_last_command\",\n",
    "]\n",
    "\n",
    "def safe_read(ser):\n",
    "    timeout = 10\n",
    "    while(timeout > 0):\n",
    "        encoderData = ser.readline()\n",
    "        try: # catch byte errors in encoderData.decode\n",
    "            encoderData = encoderData.decode()\n",
    "            encoderData = encoderData.split(\",\")\n",
    "            if len(encoderData) - 1 == len(decode_list): # account for the \\r\\n \n",
    "                return encoderData[:-1]\n",
    "            timeout -= 1\n",
    "        except:\n",
    "            timeout -= 1\n",
    "    raise Exception(\"Timeout during Read\")\n"
   ]
  },
  {
   "cell_type": "code",
   "execution_count": null,
   "metadata": {},
   "outputs": [],
   "source": [
    "# https://stackoverflow.com/questions/1133857/how-accurate-is-pythons-time-sleep\n",
    "import time\n",
    "\n",
    "def busy_sleep(duration, get_now=time.perf_counter):\n",
    "    now = get_now()\n",
    "    end = now + duration\n",
    "    while now < end:\n",
    "        now = get_now()"
   ]
  }
 ],
 "metadata": {
  "language_info": {
   "name": "python"
  },
  "orig_nbformat": 4
 },
 "nbformat": 4,
 "nbformat_minor": 2
}
